{
 "cells": [
  {
   "cell_type": "code",
   "execution_count": null,
   "metadata": {},
   "outputs": [],
   "source": [
    "Finding the odd or even number"
   ]
  },
  {
   "cell_type": "code",
   "execution_count": 1,
   "metadata": {},
   "outputs": [
    {
     "name": "stdout",
     "output_type": "stream",
     "text": [
      "Enter a num, and i will tell you if its even or odd!6\n",
      "\n",
      "The input value 6 is even.\n"
     ]
    }
   ],
   "source": [
    "number = input(\"Enter a num, and i will tell you if its even or odd!\")\n",
    "number = int(number)\n",
    "\n",
    "if number % 2 ==0:\n",
    "    print(f\"\\nThe input value {number} is even.\")\n",
    "else:\n",
    "    print(f\"\\nThe input value {number} is odd\")"
   ]
  },
  {
   "cell_type": "code",
   "execution_count": null,
   "metadata": {},
   "outputs": [],
   "source": [
    "introduction to while loops:\n",
    "\n",
    "while loop only executes if the condition is true."
   ]
  },
  {
   "cell_type": "code",
   "execution_count": 2,
   "metadata": {},
   "outputs": [
    {
     "name": "stdout",
     "output_type": "stream",
     "text": [
      "1\n",
      "2\n",
      "3\n",
      "4\n",
      "5\n"
     ]
    }
   ],
   "source": [
    "\n",
    "\n",
    "current_num = 1  # declaration of a variable # iteration\n",
    "\n",
    "while current_num <=5: # condition statement \n",
    "    print(current_num) # print statement \n",
    "    current_num +=1 # logic current_num = current_num + ===2\n",
    "\n"
   ]
  },
  {
   "cell_type": "code",
   "execution_count": null,
   "metadata": {},
   "outputs": [],
   "source": [
    "for loop vs while loop #"
   ]
  },
  {
   "cell_type": "code",
   "execution_count": null,
   "metadata": {},
   "outputs": [],
   "source": [
    "for loop will be applied to each and every element in the variable that has been assigned to it.**"
   ]
  },
  {
   "cell_type": "code",
   "execution_count": null,
   "metadata": {},
   "outputs": [],
   "source": [
    "while loop will be dependent on the conditional statements that has been given to it.\n"
   ]
  },
  {
   "cell_type": "code",
   "execution_count": 3,
   "metadata": {},
   "outputs": [
    {
     "name": "stdout",
     "output_type": "stream",
     "text": [
      "1\n",
      "2\n",
      "3\n",
      "4\n",
      "5\n",
      "6\n",
      "7\n",
      "8\n",
      "9\n",
      "10\n"
     ]
    }
   ],
   "source": [
    "current_num = 1  # declaration of a variable # iteration\n",
    "\n",
    "while current_num <=10: # condition statement \n",
    "    print(current_num) # print statement \n",
    "    current_num +=1 # logic current_num = current_num + ===2"
   ]
  },
  {
   "cell_type": "code",
   "execution_count": 4,
   "metadata": {},
   "outputs": [
    {
     "name": "stdout",
     "output_type": "stream",
     "text": [
      "1\n",
      "3\n",
      "5\n",
      "7\n",
      "9\n"
     ]
    }
   ],
   "source": [
    "current_num = 1  # declaration of a variable # iteration\n",
    "\n",
    "while current_num <=10: # condition statement \n",
    "    print(current_num) # print statement \n",
    "    current_num +=2 # logic current_num = current_num + ===2\n"
   ]
  },
  {
   "cell_type": "code",
   "execution_count": 5,
   "metadata": {},
   "outputs": [
    {
     "name": "stdout",
     "output_type": "stream",
     "text": [
      "1\n",
      "3\n",
      "5\n",
      "7\n",
      "9\n"
     ]
    }
   ],
   "source": [
    "current_num = 1  # declaration of a variable # iteration\n",
    "\n",
    "while current_num <=10: # condition statement \n",
    "    print(current_num) # print statement \n",
    "    current_num +=2 # logic current_num = current_num + ===2\n"
   ]
  },
  {
   "cell_type": "code",
   "execution_count": null,
   "metadata": {},
   "outputs": [],
   "source": [
    "\n",
    "# understanding break and continue keywords:\n",
    "\n"
   ]
  },
  {
   "cell_type": "code",
   "execution_count": 12,
   "metadata": {},
   "outputs": [],
   "source": [
    "prompt = \"\\npls enter the name of the city you have visited\"\n",
    "prompt += \"\\nEnter 'quit' you have finished\""
   ]
  },
  {
   "cell_type": "code",
   "execution_count": null,
   "metadata": {},
   "outputs": [
    {
     "name": "stdout",
     "output_type": "stream",
     "text": [
      "\n",
      "pls enter the name of the city you have visited\n",
      "Enter 'quit' you have finishedchennai\n",
      "I would like to visit the Chennai again\n",
      "\n",
      "pls enter the name of the city you have visited\n",
      "Enter 'quit' you have finishedquit\n"
     ]
    }
   ],
   "source": [
    "while True:\n",
    "    city = input(prompt)\n",
    "    \n",
    "    if city == \"quit\":\n",
    "        continue \n",
    "    else:\n",
    "        print(f\"I would like to visit the {city.title()} again\")"
   ]
  },
  {
   "cell_type": "code",
   "execution_count": null,
   "metadata": {},
   "outputs": [],
   "source": []
  }
 ],
 "metadata": {
  "kernelspec": {
   "display_name": "Python 3",
   "language": "python",
   "name": "python3"
  },
  "language_info": {
   "codemirror_mode": {
    "name": "ipython",
    "version": 3
   },
   "file_extension": ".py",
   "mimetype": "text/x-python",
   "name": "python",
   "nbconvert_exporter": "python",
   "pygments_lexer": "ipython3",
   "version": "3.7.6"
  }
 },
 "nbformat": 4,
 "nbformat_minor": 4
}
