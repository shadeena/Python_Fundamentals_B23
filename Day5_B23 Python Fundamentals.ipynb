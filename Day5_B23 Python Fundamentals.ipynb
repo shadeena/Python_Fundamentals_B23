{
 "cells": [
  {
   "cell_type": "code",
   "execution_count": null,
   "metadata": {},
   "outputs": [],
   "source": [
    "introduction to for loops:"
   ]
  },
  {
   "cell_type": "code",
   "execution_count": 1,
   "metadata": {},
   "outputs": [],
   "source": [
    "Bank_customers =['arsh','kiran','ravi','usha','bhavya','deepak',]"
   ]
  },
  {
   "cell_type": "code",
   "execution_count": null,
   "metadata": {},
   "outputs": [],
   "source": [
    "#req:greeting to the customers....!\n",
    "Axis bank wishes you a very happy new year,arsh.."
   ]
  },
  {
   "cell_type": "code",
   "execution_count": null,
   "metadata": {},
   "outputs": [],
   "source": [
    "#regular way"
   ]
  },
  {
   "cell_type": "code",
   "execution_count": 4,
   "metadata": {},
   "outputs": [
    {
     "name": "stdout",
     "output_type": "stream",
     "text": [
      "Axis bank wishes you a very happy new year, Arsh\n"
     ]
    }
   ],
   "source": [
    "print(f\"Axis bank wishes you a very happy new year, {Bank_customers[0].title()}\")"
   ]
  },
  {
   "cell_type": "code",
   "execution_count": 5,
   "metadata": {},
   "outputs": [
    {
     "name": "stdout",
     "output_type": "stream",
     "text": [
      "Axis bank wishes you a very happy new year, Kiran\n"
     ]
    }
   ],
   "source": [
    "print(f\"Axis bank wishes you a very happy new year, {Bank_customers[1].title()}\")"
   ]
  },
  {
   "cell_type": "code",
   "execution_count": null,
   "metadata": {},
   "outputs": [],
   "source": [
    "#to automate the solution"
   ]
  },
  {
   "cell_type": "code",
   "execution_count": 11,
   "metadata": {},
   "outputs": [
    {
     "name": "stdout",
     "output_type": "stream",
     "text": [
      "Axis bank wishes you a very happy new year, arsh\n",
      "Axis bank wishes you a very happy new year, kiran\n",
      "Axis bank wishes you a very happy new year, ravi\n",
      "Axis bank wishes you a very happy new year, usha\n",
      "Axis bank wishes you a very happy new year, bhavya\n",
      "Axis bank wishes you a very happy new year, deepak\n"
     ]
    }
   ],
   "source": [
    "for customers in Bank_customers:\n",
    "    print(f\"Axis bank wishes you a very happy new year, {customers}\")"
   ]
  },
  {
   "cell_type": "code",
   "execution_count": null,
   "metadata": {},
   "outputs": [],
   "source": [
    "#general syntax for loop:\n",
    "\n",
    "for tempvar in mainvar    #identation:\n",
    "print(tempvar)"
   ]
  },
  {
   "cell_type": "code",
   "execution_count": 15,
   "metadata": {},
   "outputs": [
    {
     "name": "stdout",
     "output_type": "stream",
     "text": [
      "Axis bank wishes you a very happy new year,arsh\n",
      "Axis bank wishes you a very happy new year,kiran\n",
      "Axis bank wishes you a very happy new year,ravi\n",
      "Axis bank wishes you a very happy new year,usha\n",
      "Axis bank wishes you a very happy new year,bhavya\n",
      "Axis bank wishes you a very happy new year,deepak\n"
     ]
    }
   ],
   "source": [
    "for batman in Bank_customers:\n",
    "    print(f\"Axis bank wishes you a very happy new year,{batman}\")"
   ]
  },
  {
   "cell_type": "code",
   "execution_count": 16,
   "metadata": {},
   "outputs": [
    {
     "ename": "SyntaxError",
     "evalue": "invalid syntax (<ipython-input-16-d3dff65d84c2>, line 1)",
     "output_type": "error",
     "traceback": [
      "\u001b[0;36m  File \u001b[0;32m\"<ipython-input-16-d3dff65d84c2>\"\u001b[0;36m, line \u001b[0;32m1\u001b[0m\n\u001b[0;31m    for tempvar in mainvar\u001b[0m\n\u001b[0m                          ^\u001b[0m\n\u001b[0;31mSyntaxError\u001b[0m\u001b[0;31m:\u001b[0m invalid syntax\n"
     ]
    }
   ],
   "source": [
    "for tempvar in mainvar\n",
    "print(tempvar)"
   ]
  },
  {
   "cell_type": "code",
   "execution_count": 19,
   "metadata": {},
   "outputs": [
    {
     "name": "stdout",
     "output_type": "stream",
     "text": [
      "Axis bank wishes you a very happy new year,arsh\n",
      "Axis bank wishes you a very happy new year,kiran\n",
      "Axis bank wishes you a very happy new year,ravi\n",
      "Axis bank wishes you a very happy new year,usha\n",
      "Axis bank wishes you a very happy new year,bhavya\n",
      "Axis bank wishes you a very happy new year,deepak\n"
     ]
    }
   ],
   "source": [
    "for x in Bank_customers:\n",
    "    print(f\"Axis bank wishes you a very happy new year,{x}\")"
   ]
  },
  {
   "cell_type": "code",
   "execution_count": 29,
   "metadata": {},
   "outputs": [],
   "source": [
    "my_students= ('rahul','ashish','shadeena','samia','suresh')"
   ]
  },
  {
   "cell_type": "code",
   "execution_count": null,
   "metadata": {},
   "outputs": [],
   "source": [
    "#req ; To appreciate the students"
   ]
  },
  {
   "cell_type": "code",
   "execution_count": 23,
   "metadata": {},
   "outputs": [
    {
     "name": "stdout",
     "output_type": "stream",
     "text": [
      "rahul\n",
      "ashish\n",
      "shadeena\n",
      "samia\n",
      "suresh\n"
     ]
    }
   ],
   "source": [
    "for student in my_students:\n",
    "    print(student)"
   ]
  },
  {
   "cell_type": "code",
   "execution_count": 30,
   "metadata": {},
   "outputs": [
    {
     "name": "stdout",
     "output_type": "stream",
     "text": [
      "keep up the good work, Rahul\n",
      "keep up the good work, Ashish\n",
      "keep up the good work, Shadeena\n",
      "keep up the good work, Samia\n",
      "keep up the good work, Suresh\n"
     ]
    }
   ],
   "source": [
    "for student in my_students:\n",
    "    print(f\"keep up the good work, {student.title()}\")"
   ]
  },
  {
   "cell_type": "code",
   "execution_count": 31,
   "metadata": {},
   "outputs": [
    {
     "name": "stdout",
     "output_type": "stream",
     "text": [
      "keep up the good work, Rahul\n",
      "keep up the good work, Ashish\n",
      "keep up the good work, Shadeena\n",
      "keep up the good work, Samia\n",
      "keep up the good work, Suresh\n"
     ]
    }
   ],
   "source": [
    "for y in my_students:\n",
    "    print(f\"keep up the good work, {y.title()}\")"
   ]
  },
  {
   "cell_type": "code",
   "execution_count": null,
   "metadata": {},
   "outputs": [],
   "source": [
    "#add reqiam waiting to receive your practice files today."
   ]
  },
  {
   "cell_type": "code",
   "execution_count": 32,
   "metadata": {},
   "outputs": [
    {
     "name": "stdout",
     "output_type": "stream",
     "text": [
      "keep up the good work, Rahul\n",
      "iam waiting to receive your practice files todayrahul\n",
      "keep up the good work, Ashish\n",
      "iam waiting to receive your practice files todayashish\n",
      "keep up the good work, Shadeena\n",
      "iam waiting to receive your practice files todayshadeena\n",
      "keep up the good work, Samia\n",
      "iam waiting to receive your practice files todaysamia\n",
      "keep up the good work, Suresh\n",
      "iam waiting to receive your practice files todaysuresh\n"
     ]
    }
   ],
   "source": [
    "for y in my_students:\n",
    "    print(f\"keep up the good work, {y.title()}\")\n",
    "    print(f\"iam waiting to receive your practice files today{y}\")"
   ]
  },
  {
   "cell_type": "code",
   "execution_count": null,
   "metadata": {},
   "outputs": [],
   "source": [
    "#enhancement of the code."
   ]
  },
  {
   "cell_type": "code",
   "execution_count": 34,
   "metadata": {},
   "outputs": [
    {
     "name": "stdout",
     "output_type": "stream",
     "text": [
      "keep up the good work, Rahul\n",
      "iam waiting to receive your practice files today ,rahul.\n",
      "\n",
      "keep up the good work, Ashish\n",
      "iam waiting to receive your practice files today ,ashish.\n",
      "\n",
      "keep up the good work, Shadeena\n",
      "iam waiting to receive your practice files today ,shadeena.\n",
      "\n",
      "keep up the good work, Samia\n",
      "iam waiting to receive your practice files today ,samia.\n",
      "\n",
      "keep up the good work, Suresh\n",
      "iam waiting to receive your practice files today ,suresh.\n",
      "\n",
      "Thank you all for joining in the python training sessions!\n"
     ]
    }
   ],
   "source": [
    "for y in my_students:\n",
    "    print(f\"keep up the good work, {y.title()}\")\n",
    "    print(f\"iam waiting to receive your practice files today ,{y}.\\n\")\n",
    "print('Thank you all for joining in the python training sessions!')"
   ]
  },
  {
   "cell_type": "code",
   "execution_count": null,
   "metadata": {},
   "outputs": [],
   "source": []
  }
 ],
 "metadata": {
  "kernelspec": {
   "display_name": "Python 3",
   "language": "python",
   "name": "python3"
  },
  "language_info": {
   "codemirror_mode": {
    "name": "ipython",
    "version": 3
   },
   "file_extension": ".py",
   "mimetype": "text/x-python",
   "name": "python",
   "nbconvert_exporter": "python",
   "pygments_lexer": "ipython3",
   "version": "3.7.6"
  }
 },
 "nbformat": 4,
 "nbformat_minor": 4
}
