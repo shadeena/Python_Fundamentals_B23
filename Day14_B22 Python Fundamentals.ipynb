{
 "cells": [
  {
   "cell_type": "code",
   "execution_count": null,
   "metadata": {},
   "outputs": [],
   "source": [
    "class\n",
    "\n",
    "method\n",
    "\n",
    "attribute\n",
    "\n",
    "self\n",
    "\n",
    "object"
   ]
  },
  {
   "cell_type": "code",
   "execution_count": null,
   "metadata": {},
   "outputs": [],
   "source": [
    "Introduction to constructor:(it is aso a method)\n",
    "    \n",
    "A constructor is used for initializatiom\n",
    "\n",
    "defining a constructor def_init_(self)"
   ]
  },
  {
   "cell_type": "code",
   "execution_count": null,
   "metadata": {},
   "outputs": [],
   "source": [
    "#req: create a dog class....(name,age)of the dog as a parametre\n",
    "\n",
    "methods of dog:\n",
    "    \n",
    "sit\n",
    "rollover\n",
    "jump\n",
    "sleep\n",
    "details   "
   ]
  },
  {
   "cell_type": "code",
   "execution_count": 10,
   "metadata": {},
   "outputs": [],
   "source": [
    "class Dog: \n",
    "    \"\"\"Creating a dog class and describing the methods\"\"\"\n",
    "    def __init__(self, name, age):\n",
    "        self.name = name\n",
    "        self.age = age\n",
    "        print(\"This got executed automatically\")\n",
    "    \n",
    "    def sit(self):\n",
    "        print(f\"{self.name} is now sitting\")\n",
    "    \n",
    "    def roll_over(self):\n",
    "        print(f\"{self.name} is now rolling over\")\n",
    "    \n",
    "    def jump(self):\n",
    "        print(f\"{self.name} is now jumping on the command\")\n",
    "    \n",
    "    def sleep(self):\n",
    "        print(f\"{self.name} is now sleeping\")\n",
    "    \n",
    "    def details(self):\n",
    "        print(f\"{self.name} is the name of the dog\")\n",
    "        print(f\"{self.name} is of {self.age}'s years old!\")\n",
    "        \n",
    "    \n",
    "    "
   ]
  },
  {
   "cell_type": "code",
   "execution_count": 11,
   "metadata": {},
   "outputs": [
    {
     "name": "stdout",
     "output_type": "stream",
     "text": [
      "This got executed automatically\n"
     ]
    }
   ],
   "source": [
    "a = Dog('rex',2)"
   ]
  },
  {
   "cell_type": "code",
   "execution_count": 12,
   "metadata": {},
   "outputs": [
    {
     "name": "stdout",
     "output_type": "stream",
     "text": [
      "rex is now sitting\n"
     ]
    }
   ],
   "source": [
    "a.sit()"
   ]
  },
  {
   "cell_type": "code",
   "execution_count": 14,
   "metadata": {},
   "outputs": [
    {
     "name": "stdout",
     "output_type": "stream",
     "text": [
      "rex is now rolling over\n"
     ]
    }
   ],
   "source": [
    "a.roll_over()"
   ]
  },
  {
   "cell_type": "code",
   "execution_count": 15,
   "metadata": {},
   "outputs": [
    {
     "name": "stdout",
     "output_type": "stream",
     "text": [
      "rex is now jumping on the command\n"
     ]
    }
   ],
   "source": [
    "a.jump()"
   ]
  },
  {
   "cell_type": "code",
   "execution_count": 16,
   "metadata": {},
   "outputs": [
    {
     "name": "stdout",
     "output_type": "stream",
     "text": [
      "rex is now sleeping\n"
     ]
    }
   ],
   "source": [
    "a.sleep()"
   ]
  },
  {
   "cell_type": "code",
   "execution_count": 17,
   "metadata": {},
   "outputs": [
    {
     "name": "stdout",
     "output_type": "stream",
     "text": [
      "rex is the name of the dog\n",
      "rex is of 2's years old!\n"
     ]
    }
   ],
   "source": [
    "a.details()"
   ]
  },
  {
   "cell_type": "code",
   "execution_count": null,
   "metadata": {},
   "outputs": [],
   "source": []
  }
 ],
 "metadata": {
  "kernelspec": {
   "display_name": "Python 3",
   "language": "python",
   "name": "python3"
  },
  "language_info": {
   "codemirror_mode": {
    "name": "ipython",
    "version": 3
   },
   "file_extension": ".py",
   "mimetype": "text/x-python",
   "name": "python",
   "nbconvert_exporter": "python",
   "pygments_lexer": "ipython3",
   "version": "3.7.6"
  }
 },
 "nbformat": 4,
 "nbformat_minor": 4
}
