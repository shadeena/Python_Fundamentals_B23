{
 "cells": [
  {
   "cell_type": "code",
   "execution_count": null,
   "metadata": {},
   "outputs": [],
   "source": [
    "installation_Setup_of_Intellij"
   ]
  },
  {
   "cell_type": "code",
   "execution_count": null,
   "metadata": {},
   "outputs": [],
   "source": [
    "requirements\n",
    "\n",
    "1.pyton installation....www.python.org.....google\n",
    "2.intellij installation .....download intellij....google"
   ]
  },
  {
   "cell_type": "code",
   "execution_count": null,
   "metadata": {},
   "outputs": [],
   "source": [
    "1.python installation-----python 3.8.5.....download and install....nextnext...next...done."
   ]
  },
  {
   "cell_type": "code",
   "execution_count": null,
   "metadata": {},
   "outputs": [],
   "source": [
    "2.Intelliji idea...community edition...download.exe\n",
    "\n",
    "Run and install it from your download path....next....next....complete the set up."
   ]
  },
  {
   "cell_type": "code",
   "execution_count": null,
   "metadata": {},
   "outputs": [],
   "source": [
    "Setup of internal environment of intellij idea:\n",
    "    \n",
    "    go to configure...search for Python community edition...install and restart the IDE.\n",
    "    \n",
    "    create new project....python and SDK of python(software development KIT).....finish\n",
    "    \n",
    "    project name.....Shadeena_Advance_B08....next\n",
    "    \n",
    "    keep the cursor on your project name....right click...new...pythonfile...application1"
   ]
  },
  {
   "cell_type": "code",
   "execution_count": null,
   "metadata": {},
   "outputs": [],
   "source": [
    "we need to send a screenshot ....snipping tool....codetraining01@gmail.com\n",
    "\n",
    "DAY1_AD_B08"
   ]
  },
  {
   "cell_type": "code",
   "execution_count": null,
   "metadata": {},
   "outputs": [],
   "source": []
  },
  {
   "cell_type": "code",
   "execution_count": null,
   "metadata": {},
   "outputs": [],
   "source": []
  }
 ],
 "metadata": {
  "kernelspec": {
   "display_name": "Python 3",
   "language": "python",
   "name": "python3"
  },
  "language_info": {
   "codemirror_mode": {
    "name": "ipython",
    "version": 3
   },
   "file_extension": ".py",
   "mimetype": "text/x-python",
   "name": "python",
   "nbconvert_exporter": "python",
   "pygments_lexer": "ipython3",
   "version": "3.7.6"
  }
 },
 "nbformat": 4,
 "nbformat_minor": 4
}
